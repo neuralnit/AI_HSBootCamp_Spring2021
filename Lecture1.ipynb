{
  "nbformat": 4,
  "nbformat_minor": 0,
  "metadata": {
    "colab": {
      "name": "Lecture1.ipynb",
      "provenance": [],
      "authorship_tag": "ABX9TyONdP6C6jydXnI1WrflnH27",
      "include_colab_link": true
    },
    "kernelspec": {
      "name": "python3",
      "display_name": "Python 3"
    },
    "language_info": {
      "name": "python"
    }
  },
  "cells": [
    {
      "cell_type": "markdown",
      "metadata": {
        "id": "view-in-github",
        "colab_type": "text"
      },
      "source": [
        "<a href=\"https://colab.research.google.com/github/nits555/AI_HSBootCamp_Spring2021/blob/main/Lecture1.ipynb\" target=\"_parent\"><img src=\"https://colab.research.google.com/assets/colab-badge.svg\" alt=\"Open In Colab\"/></a>"
      ]
    },
    {
      "cell_type": "markdown",
      "metadata": {
        "id": "8FBjZ8Xzf1kD"
      },
      "source": [
        "## Welcome to the AI Bootcamp for High Schoolers - Spring 2021\n",
        "\n",
        "- Welcome to Class!\n",
        "  - 12 sessions from ***April 03 to June 19, every Saturday from 1.00 pm to 3.00 pm*** Pacific Time.\n",
        "  - Office Hours - Flexible - Please send me an email at nits555@gmail.com and we can schedule a time to talk, if you need assistance.\n",
        "  - Homework Assignments (occassionally -- optional submission) + Project (also, optional)\n",
        "- Who am I?\n",
        "  - Nitin Sharma, please feel free to call me ***Nitin***\n",
        "  - PhD with specialization an area of ML called \"Optimization\" - Back in 2011\n",
        "  - Experience in:\n",
        "    - Building ML models for fraud detection\n",
        "    - Teaching AI/ML algorithms to wide range of audiences\n",
        "  - Love biking, hiking, reading and watching documentaries :)\n",
        "- Will the course cover pre-requisites you put up in the call for applications?\n",
        "  - Yes, in a sort of review manner with the following topics:\n",
        "    - Basic Probability and AP Statistics\n",
        "    - AP Calculus and Linear Algebra\n",
        "    - Basics of Python Programming (Pandas, Numpy refreshers included)\n",
        "- What main topics should I expect to see covered as a part of this course curriculum?\n",
        "  - Introduction to Machine Learning \n",
        "    - What is machine learning?\n",
        "    - Why do we care about it?\n",
        "  - Learning Algorithms and associated basic concepts:\n",
        "    - Supervised (Linear and Non-Linear Algorithms):\n",
        "      - Linear Regression\n",
        "      - Logistic Regression \n",
        "      - Regularization Methods (L1/LASSO or L2/Ridge)\n",
        "      - Tree-Based Models (Gradient Boosted Trees, Random Forests)\n",
        "      - K-Nearest Neighbors\n",
        "      - Neural Networks\n",
        "      - Support Vector Machines\n",
        "    - Unsupervised:\n",
        "      - Clustering\n",
        "      - Anomaly Detection\n",
        "    - Dimensionality Reduction:\n",
        "      - Principal Component Analysis (PCA)\n",
        "      - Uni-variate and Multi-variate Methods \n",
        "    - Bayesian Learning\n",
        "  - Steps in the Model Development Life Cycle:\n",
        "    - Data Pre-processing \n",
        "    - Data Transformation\n",
        "    - Feature Engineering\n",
        "    - Feature Selection\n",
        "    - Hyperparameter Tuning\n",
        "    - Automated Machine Learning (Auto-ML)\n",
        "    - Performance Evaluation Metrics\n",
        "    - Gap Analysis\n",
        "  - Bonus Topics (With time permitting, as a bonus):\n",
        "      - Text Mining \n",
        "      - Reinforcement Learning \n",
        "- How can I prepare for the class? Do I need to install any software? How should I expect to run the code that will be covered in class?\n",
        "  - Google Colab - Please go through an introductory notebook at https://colab.research.google.com/notebooks/intro.ipynb#\n",
        "  - All you need is a Google account -- You can install any dependencies (software-related stuff) directly into the notebook -- I will show you how when we run the code real-time during class.\n",
        "  - Please also feel free to watch the following short video: https://www.youtube.com/watch?v=inN8seMm7UI \n",
        "  - All content will be shared through Google Drive - this includes notebooks and all data that is used to run the notebooks."
      ]
    }
  ]
}